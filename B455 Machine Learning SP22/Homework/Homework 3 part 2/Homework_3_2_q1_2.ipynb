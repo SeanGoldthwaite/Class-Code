{
  "nbformat": 4,
  "nbformat_minor": 0,
  "metadata": {
    "colab": {
      "name": "Homework 3-2 q1-2.ipynb",
      "provenance": [],
      "collapsed_sections": []
    },
    "kernelspec": {
      "name": "python3",
      "display_name": "Python 3"
    },
    "language_info": {
      "name": "python"
    }
  },
  "cells": [
    {
      "cell_type": "code",
      "metadata": {
        "colab": {
          "base_uri": "https://localhost:8080/",
          "height": 422
        },
        "id": "ffzj7JU99iqK",
        "outputId": "20482857-0fd5-47f6-a55f-014d366326cc"
      },
      "source": [
        "import numpy as np\n",
        "import matplotlib.pyplot as plt\n",
        "from sklearn import svm\n",
        "\n",
        "x = np.array([[1,1], [1,2], [2,1], [0,0], [1,0], [0,1]])\n",
        "y = np.array([1,1,1,-1,-1,-1])\n",
        "\n",
        "#find optimal separating line for q1\n",
        "model = svm.LinearSVC(fit_intercept=True, random_state=55)\n",
        "model = model.fit(x, y)\n",
        "\n",
        "weights, offset = model.coef_[0], model.intercept_[0]\n",
        "\n",
        "b = offset / weights[1]\n",
        "w = weights / weights[1]\n",
        "\n",
        "print(f'Separating line values:\\n\\t m={-w[0]}\\n\\tb={b}\\n')\n",
        "\n",
        "#calculate margin\n",
        "margin = (np.dot(weights, x[0]) + offset) / np.linalg.norm(weights)\n",
        "print(f'weights: {weights}\\noffset: {offset}\\nmargin: {margin}\\n')\n",
        "\n",
        "#graphing points and separating line\n",
        "sep_x = np.linspace(0, 2, 2)\n",
        "sep_y = -w[0] * sep_x - b\n",
        "\n",
        "plt.scatter(x[0:3,0], x[0:3,1], marker='x', color='r')\n",
        "plt.scatter(x[3:,0], x[3:,1], marker='o', color='b')\n",
        "plt.plot(sep_x, sep_y, color='k', label=f'y=-{w[0]}x+{-b}')\n",
        "plt.legend(loc='best')\n",
        "plt.axis([0, 2.5, 0, 2.5])"
      ],
      "execution_count": null,
      "outputs": [
        {
          "output_type": "stream",
          "text": [
            "Separating line values:\n",
            "\t m=-0.9999906699740528\n",
            "\tb=-1.538485347366116\n",
            "\n",
            "weights: [0.62399171 0.62399754]\n",
            "offset: -0.960011065492847\n",
            "margin: 0.32633506552352104\n",
            "\n"
          ],
          "name": "stdout"
        },
        {
          "output_type": "execute_result",
          "data": {
            "text/plain": [
              "(0.0, 2.5, 0.0, 2.5)"
            ]
          },
          "metadata": {
            "tags": []
          },
          "execution_count": 1
        },
        {
          "output_type": "display_data",
          "data": {
            "image/png": "[encoded data removed]",
            "text/plain": [
              "<Figure size 432x288 with 1 Axes>"
            ]
          },
          "metadata": {
            "tags": [],
            "needs_background": "light"
          }
        }
      ]
    },
    {
      "cell_type": "code",
      "metadata": {
        "colab": {
          "base_uri": "https://localhost:8080/"
        },
        "id": "Mo_2exehg_Eo",
        "outputId": "ac1af726-bd64-4fb4-918e-997651167835"
      },
      "source": [
        "\n",
        "#q2 part 1 calculations\n",
        "\n",
        "SVs = np.array([[1,0], [0,1], [1,1]])\n",
        "sv_classes = np.array([[-1,-1,1]])\n",
        "num_svs = SVs.shape[0]\n",
        "\n",
        "print(f'Support vectors: {SVs}\\nClasses: {sv_classes}')\n",
        "\n",
        "#calc kernel\n",
        "kernel = np.zeros((num_svs, num_svs))\n",
        "for v1 in range(num_svs):\n",
        "  for v2 in range(num_svs):\n",
        "    kernel[v1,v2] = np.dot(SVs[v1], SVs[v2])\n",
        "\n",
        "#solving using a linear system of 4 equations, 4 unknowns (3 lambdas and a 'b'). \n",
        "system = kernel * sv_classes\n",
        "system = np.concatenate((system, np.ones((system.shape[0],1))), axis=1)\n",
        "classes_addon = np.concatenate((sv_classes, [[0]]), axis=1)\n",
        "system = np.concatenate((system, classes_addon), axis=0)\n",
        "\n",
        "#represents (lamba_0, lambda_1, ..., lambda_i, b) where i is the number of support vectors\n",
        "sol = np.dot(np.linalg.inv(system), classes_addon.transpose())\n",
        "lambdas, b = sol[0:-1,0], sol[-1,0]\n",
        "print(f'Lambas: {lambdas}\\nb: {b}\\n')\n",
        "\n",
        "#classify new point(s) q2 part 2\n",
        "point = np.array([0,2])\n",
        "sum = B\n",
        "for i in range(num_svs):\n",
        "  sum += lambdas[i] * sv_classes[0,i] * np.dot(SVs[i], point)\n",
        "\n",
        "print(f'Point {point} classified as {sum}')"
      ],
      "execution_count": null,
      "outputs": [
        {
          "output_type": "stream",
          "text": [
            "Support vectors: [[1 0]\n",
            " [0 1]\n",
            " [1 1]]\n",
            "Classes: [[-1 -1  1]]\n",
            "Lambas: [2. 2. 4.]\n",
            "b: -3.0\n",
            "\n",
            "Point [0 2] classified as 1.0\n"
          ],
          "name": "stdout"
        }
      ]
    }
  ]
}