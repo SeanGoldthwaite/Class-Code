{
  "nbformat": 4,
  "nbformat_minor": 0,
  "metadata": {
    "colab": {
      "name": "LLoyd Clustering.ipynb",
      "provenance": [],
      "collapsed_sections": []
    },
    "kernelspec": {
      "name": "python3",
      "display_name": "Python 3"
    },
    "language_info": {
      "name": "python"
    }
  },
  "cells": [
    {
      "cell_type": "code",
      "metadata": {
        "colab": {
          "base_uri": "https://localhost:8080/"
        },
        "id": "Kti1wUln3J9J",
        "outputId": "a8777a88-c42e-4f88-8f26-943553b0c612"
      },
      "source": [
        "import numpy as np\n",
        "\n",
        "def load_convert_data(filepath):\n",
        "  with open(filepath) as f:\n",
        "    lines = f.read().splitlines()\n",
        "\n",
        "    a = [int(n) for n in lines[0].split()]\n",
        "    k, m = a[0], a[1]\n",
        "\n",
        "    data = lines[1:]\n",
        "\n",
        "    for index, item in enumerate(data):\n",
        "      data[index] = [float(num) for num in item.split()]\n",
        "\n",
        "    data = np.matrix(data)\n",
        "\n",
        "    return k, m, data\n",
        "\n",
        "k, m , points = load_convert_data('rosalind_ba8c.txt')\n",
        "n = points.shape[0]\n",
        "dist = np.zeros((n, k))\n",
        "clusters = np.argmin(dist, axis=1)\n",
        "prev_clusters = np.matrix(clusters)\n",
        "print(f'{n} points, {k} clusters, {m} dimensions')\n",
        "print(f'Points:\\n {points}')\n",
        "\n",
        "centers = points[:k,]\n",
        "print(f'Initial Centers:\\n {centers}')\n",
        "\n",
        "i = 0\n",
        "while not np.array_equal(clusters, prev_clusters):\n",
        "  prev_clusters = clusters\n",
        "\n",
        "  #Centers to Clusters\n",
        "  for index, center in enumerate(centers):\n",
        "    dist[:,index] = [np.linalg.norm(point - center) for point in points]\n",
        "  #print(dist) \n",
        "  clusters = np.argmin(dist, axis=1)\n",
        "  #print(clusters)\n",
        "\n",
        "  #Clusters to Centers\n",
        "  for index, center in enumerate(centers):\n",
        "    p = points[clusters == index]\n",
        "    centers[index] = np.mean(p, axis=0)\n",
        "  #print(centers)\n",
        "\n",
        "  i += 1\n",
        "\n",
        "print(f'Final Centers: \\n{centers}')\n",
        "print(f'Iterations: {i}')\n",
        "\n",
        "\n",
        "# Output\n",
        "# 7.561 6.167 16.568 6.078 7.096\n",
        "# 18.232 6.147 5.468 6.578 6.053\n",
        "# 7.037 17.299 6.927 5.495 7.028\n",
        "# 7.712 7.233 6.916 18.717 6.838\n",
        "# 6.042 6.279 5.708 7.014 17.408\n",
        "# 5.158 4.559 5.113 5.144 4.719"
      ],
      "execution_count": 57,
      "outputs": [
        {
          "output_type": "stream",
          "name": "stdout",
          "text": [
            "1209 points, 6 clusters, 3 dimensions\n",
            "Points:\n",
            " [[ 1.   4.4  2.2]\n",
            " [ 4.5  2.8 20.2]\n",
            " [ 5.3  9.9 15.4]\n",
            " ...\n",
            " [ 4.8  6.4  9.4]\n",
            " [ 1.5  1.1 14. ]\n",
            " [ 1.1  7.1 13.9]]\n",
            "Initial Centers:\n",
            " [[ 1.   4.4  2.2]\n",
            " [ 4.5  2.8 20.2]\n",
            " [ 5.3  9.9 15.4]\n",
            " [ 1.5  5.8  3.7]\n",
            " [ 8.5 12.5 12.9]\n",
            " [ 6.3  7.   8.4]]\n",
            "Final Centers: \n",
            "[[ 5.17183557  3.54208854  4.02658288]\n",
            " [ 4.94193541  4.81572592 13.81209772]\n",
            " [10.4361111  13.02592592 18.23888881]\n",
            " [ 4.5626791  11.78803785  4.88421   ]\n",
            " [ 8.71136373 22.59431815  6.10568176]\n",
            " [16.31111111  6.47136752  5.77179487]]\n",
            "Iterations: 25\n"
          ]
        }
      ]
    },
    {
      "cell_type": "code",
      "metadata": {
        "colab": {
          "base_uri": "https://localhost:8080/",
          "height": 282
        },
        "id": "xTrasF-BulbE",
        "outputId": "68759254-2f38-465f-f9c2-8afd85099f29"
      },
      "source": [
        "import matplotlib.pyplot as plt\n",
        "\n",
        "x = points[:, 0].reshape([points.shape[0],]).tolist()[0]\n",
        "y = points[:, 1].reshape([points.shape[0],]).tolist()[0]\n",
        "plt.scatter(x, y, c=clusters)\n",
        "\n",
        "\n",
        "centers = np.matrix('1.8 2.867; 1.060 1.14')\n",
        "x_center = centers[:, 0].reshape([centers.shape[0],]).tolist()[0]\n",
        "y_center = centers[:, 1].reshape([centers.shape[0],]).tolist()[0]\n",
        "plt.scatter(x_center, y_center, c='blue')"
      ],
      "execution_count": 56,
      "outputs": [
        {
          "output_type": "execute_result",
          "data": {
            "text/plain": [
              "<matplotlib.collections.PathCollection at 0x7f50114f08d0>"
            ]
          },
          "metadata": {},
          "execution_count": 56
        },
        {
          "output_type": "display_data",
          "data": {
            "image/png": "[encoded data removed]",
            "text/plain": [
              "<Figure size 432x288 with 1 Axes>"
            ]
          },
          "metadata": {
            "needs_background": "light"
          }
        }
      ]
    },
    {
      "cell_type": "code",
      "metadata": {
        "colab": {
          "base_uri": "https://localhost:8080/"
        },
        "id": "FRRAc_6b3Hf6",
        "outputId": "94927324-65aa-4bbc-ddf7-4aad46d68ec4"
      },
      "source": [
        "true_centers = np.matrix('7.561 6.167 16.568 6.078 7.096; 18.232 6.147 5.468 6.578 6.053; 7.037 17.299 6.927 5.495 7.028; 7.712 7.233 6.916 18.717 6.838; 6.042 6.279 5.708 7.014 17.408; 5.158 4.559 5.113 5.144 4.719')\n",
        "\n",
        "diff = true_centers - centers\n",
        "print(diff, np.sum(diff))\n",
        "sse = np.sum(np.dot(diff, diff.T))\n",
        "print(sse)"
      ],
      "execution_count": 50,
      "outputs": [
        {
          "output_type": "stream",
          "name": "stdout",
          "text": [
            "[[-0.04309269  0.00384152  0.02121514  0.04817433 -0.02973132]\n",
            " [ 0.05132782 -0.00594113 -0.03284039  0.0494287   0.02442857]\n",
            " [-0.02425013 -0.02224831 -0.0011249   0.01687543  0.02799987]\n",
            " [-0.01398431  0.03299997 -0.00525984 -0.03654332 -0.04310237]\n",
            " [-0.02551592 -0.01781529  0.00417833  0.04329936  0.03984714]\n",
            " [ 0.08906037  0.02490947  0.04216646 -0.08099983  0.03528799]] 0.17259073730169927\n",
            "0.006790270903518105\n"
          ]
        }
      ]
    }
  ]
}