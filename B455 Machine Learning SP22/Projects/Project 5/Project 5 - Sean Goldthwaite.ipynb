{
  "nbformat": 4,
  "nbformat_minor": 0,
  "metadata": {
    "colab": {
      "name": "Project 5.ipynb",
      "provenance": [],
      "collapsed_sections": []
    },
    "kernelspec": {
      "name": "python3",
      "display_name": "Python 3"
    },
    "language_info": {
      "name": "python"
    }
  },
  "cells": [
    {
      "cell_type": "code",
      "metadata": {
        "id": "G4riTMaS2ISw"
      },
      "source": [
        "import numpy as np\n",
        "\n",
        "f = open('/content/drive/MyDrive/B455/Project 5/Admission_Predict_Ver1.1.csv')\n",
        "\n",
        "feature_names = f.readline()[:-2].split(',')\n",
        "data = np.genfromtxt(f, delimiter=',')\n",
        "\n",
        "#drop the Serial No. column because it is uninformative\n",
        "data = data[:,1:]\n",
        "feature_names = feature_names[1:]\n",
        "\n",
        "X = data[:,:-1]\n",
        "y = data[:,-1]\n",
        "\n",
        "from sklearn.model_selection import train_test_split\n",
        "\n",
        "X_train, X_test, y_train, y_test = train_test_split(X, y, test_size=0.2, random_state=55)"
      ],
      "execution_count": 7,
      "outputs": []
    },
    {
      "cell_type": "markdown",
      "metadata": {
        "id": "oJvCKYzy-vBF"
      },
      "source": [
        "MLP - Regression\n",
        "\n",
        "Choices:\n",
        "\n",
        "Activation function - The output is a probability in the range (0, 1) which should mean that a sigmoid activation function is better but I was able to get a lower sse during cross-calidation with a ReLU activation. \n",
        "\n",
        "Solver - I don't entirely understand what the lbfgs solver does but the SKLearn API says it is good on smaller datasets. Here I was able to get a lower sse with lbfgs over sgd which is why I shose lbfgs."
      ]
    },
    {
      "cell_type": "code",
      "metadata": {
        "colab": {
          "base_uri": "https://localhost:8080/",
          "height": 1000
        },
        "id": "6uvGj0b0-ubQ",
        "outputId": "4ee2f8b1-ecb2-4562-f499-a058d955afcc"
      },
      "source": [
        "from sklearn.neural_network import MLPRegressor\n",
        "\n",
        "mlp = MLPRegressor(hidden_layer_sizes=(50,25),\n",
        "                    momentum=0.75,\n",
        "                    learning_rate_init=0.00005,\n",
        "                    max_iter=5000,\n",
        "                    validation_fraction=0.25,\n",
        "                    batch_size=10,\n",
        "                    early_stopping=True,\n",
        "                    shuffle=True,\n",
        "                    activation='relu',\n",
        "                    solver='lbfgs',\n",
        "                    learning_rate='constant',\n",
        "                    random_state=5,\n",
        "                    verbose=False)\n",
        "\n",
        "mlp = mlp.fit(X_train, y_train)\n",
        "\n",
        "pred = mlp.predict(X_test)\n",
        "\n",
        "print(f'Number of epochs completed: {mlp.n_iter_}')\n",
        "print(f'sse = {np.sum((pred - y_test)**2)}')\n",
        "\n",
        "import pandas as pd\n",
        "\n",
        "df = pd.DataFrame(data={'actual': y_test, 'predicted': pred, 'difference': y_test - pred})\n",
        "print(df.to_markdown())\n",
        "\n",
        "import matplotlib.pyplot as plt\n",
        "\n",
        "plt.scatter(pred, y_test)\n",
        "plt.plot([0.5,1], [0.5,1], color='k', label='line of perfect prediction')\n",
        "plt.xlabel('predicted')\n",
        "plt.ylabel('actual')\n",
        "plt.legend(loc='best')"
      ],
      "execution_count": 8,
      "outputs": [
        {
          "output_type": "stream",
          "text": [
            "Number of epochs completed: 281\n",
            "sse = 0.3305220569611894\n",
            "|    |   actual |   predicted |   difference |\n",
            "|---:|---------:|------------:|-------------:|\n",
            "|  0 |     0.94 |    0.906767 |  0.0332334   |\n",
            "|  1 |     0.7  |    0.740463 | -0.0404627   |\n",
            "|  2 |     0.9  |    0.919192 | -0.0191918   |\n",
            "|  3 |     0.72 |    0.617048 |  0.102952    |\n",
            "|  4 |     0.75 |    0.693299 |  0.0567013   |\n",
            "|  5 |     0.72 |    0.701109 |  0.0188907   |\n",
            "|  6 |     0.92 |    0.883537 |  0.0364625   |\n",
            "|  7 |     0.57 |    0.610092 | -0.0400923   |\n",
            "|  8 |     0.52 |    0.495206 |  0.0247938   |\n",
            "|  9 |     0.84 |    0.733804 |  0.106196    |\n",
            "| 10 |     0.94 |    0.951665 | -0.0116647   |\n",
            "| 11 |     0.52 |    0.569122 | -0.0491218   |\n",
            "| 12 |     0.64 |    0.623921 |  0.016079    |\n",
            "| 13 |     0.72 |    0.682292 |  0.0377085   |\n",
            "| 14 |     0.71 |    0.632344 |  0.0776563   |\n",
            "| 15 |     0.62 |    0.65782  | -0.0378195   |\n",
            "| 16 |     0.61 |    0.631163 | -0.0211634   |\n",
            "| 17 |     0.76 |    0.767218 | -0.007218    |\n",
            "| 18 |     0.65 |    0.620237 |  0.029763    |\n",
            "| 19 |     0.73 |    0.745152 | -0.015152    |\n",
            "| 20 |     0.64 |    0.635469 |  0.00453136  |\n",
            "| 21 |     0.95 |    0.920761 |  0.0292394   |\n",
            "| 22 |     0.77 |    0.715207 |  0.054793    |\n",
            "| 23 |     0.91 |    0.89749  |  0.0125103   |\n",
            "| 24 |     0.42 |    0.53369  | -0.11369     |\n",
            "| 25 |     0.61 |    0.574138 |  0.0358615   |\n",
            "| 26 |     0.78 |    0.852658 | -0.0726579   |\n",
            "| 27 |     0.75 |    0.728843 |  0.021157    |\n",
            "| 28 |     0.77 |    0.746353 |  0.0236473   |\n",
            "| 29 |     0.81 |    0.792306 |  0.0176944   |\n",
            "| 30 |     0.65 |    0.607313 |  0.0426875   |\n",
            "| 31 |     0.93 |    0.908484 |  0.0215158   |\n",
            "| 32 |     0.64 |    0.620796 |  0.0192036   |\n",
            "| 33 |     0.85 |    0.841239 |  0.00876108  |\n",
            "| 34 |     0.73 |    0.690594 |  0.0394058   |\n",
            "| 35 |     0.71 |    0.688255 |  0.0217449   |\n",
            "| 36 |     0.71 |    0.704282 |  0.00571767  |\n",
            "| 37 |     0.82 |    0.82109  | -0.00109027  |\n",
            "| 38 |     0.93 |    0.905251 |  0.0247495   |\n",
            "| 39 |     0.79 |    0.727288 |  0.0627115   |\n",
            "| 40 |     0.94 |    0.95153  | -0.0115297   |\n",
            "| 41 |     0.53 |    0.552356 | -0.0223555   |\n",
            "| 42 |     0.8  |    0.787587 |  0.012413    |\n",
            "| 43 |     0.79 |    0.796514 | -0.0065141   |\n",
            "| 44 |     0.74 |    0.691237 |  0.0487626   |\n",
            "| 45 |     0.81 |    0.740762 |  0.0692381   |\n",
            "| 46 |     0.62 |    0.613108 |  0.00689152  |\n",
            "| 47 |     0.92 |    0.899328 |  0.0206716   |\n",
            "| 48 |     0.71 |    0.665953 |  0.0440468   |\n",
            "| 49 |     0.72 |    0.668374 |  0.051626    |\n",
            "| 50 |     0.88 |    0.860679 |  0.0193206   |\n",
            "| 51 |     0.56 |    0.687501 | -0.127501    |\n",
            "| 52 |     0.49 |    0.641768 | -0.151768    |\n",
            "| 53 |     0.74 |    0.672801 |  0.0671988   |\n",
            "| 54 |     0.7  |    0.655477 |  0.0445233   |\n",
            "| 55 |     0.84 |    0.806203 |  0.0337972   |\n",
            "| 56 |     0.89 |    0.844016 |  0.0459841   |\n",
            "| 57 |     0.73 |    0.679264 |  0.0507361   |\n",
            "| 58 |     0.94 |    0.936465 |  0.00353494  |\n",
            "| 59 |     0.57 |    0.539593 |  0.0304072   |\n",
            "| 60 |     0.47 |    0.513879 | -0.0438788   |\n",
            "| 61 |     0.82 |    0.775994 |  0.0440058   |\n",
            "| 62 |     0.73 |    0.709556 |  0.0204436   |\n",
            "| 63 |     0.65 |    0.608062 |  0.0419378   |\n",
            "| 64 |     0.59 |    0.580073 |  0.00992659  |\n",
            "| 65 |     0.71 |    0.768707 | -0.0587074   |\n",
            "| 66 |     0.44 |    0.538974 | -0.0989738   |\n",
            "| 67 |     0.48 |    0.5735   | -0.0935003   |\n",
            "| 68 |     0.49 |    0.594743 | -0.104743    |\n",
            "| 69 |     0.65 |    0.629831 |  0.0201694   |\n",
            "| 70 |     0.67 |    0.59031  |  0.0796901   |\n",
            "| 71 |     0.87 |    0.841589 |  0.0284106   |\n",
            "| 72 |     0.91 |    0.876706 |  0.0332936   |\n",
            "| 73 |     0.72 |    0.657891 |  0.062109    |\n",
            "| 74 |     0.37 |    0.492151 | -0.122151    |\n",
            "| 75 |     0.94 |    0.959045 | -0.0190452   |\n",
            "| 76 |     0.71 |    0.6351   |  0.0748999   |\n",
            "| 77 |     0.81 |    0.790488 |  0.0195119   |\n",
            "| 78 |     0.54 |    0.496697 |  0.0433025   |\n",
            "| 79 |     0.94 |    0.957845 | -0.017845    |\n",
            "| 80 |     0.65 |    0.605609 |  0.0443909   |\n",
            "| 81 |     0.8  |    0.774853 |  0.025147    |\n",
            "| 82 |     0.47 |    0.511814 | -0.0418137   |\n",
            "| 83 |     0.52 |    0.733447 | -0.213447    |\n",
            "| 84 |     0.72 |    0.657714 |  0.0622856   |\n",
            "| 85 |     0.96 |    0.921153 |  0.0388468   |\n",
            "| 86 |     0.95 |    0.850108 |  0.0998919   |\n",
            "| 87 |     0.84 |    0.831591 |  0.00840892  |\n",
            "| 88 |     0.78 |    0.780062 | -6.15255e-05 |\n",
            "| 89 |     0.78 |    0.743054 |  0.0369463   |\n",
            "| 90 |     0.77 |    0.727998 |  0.042002    |\n",
            "| 91 |     0.76 |    0.701797 |  0.0582035   |\n",
            "| 92 |     0.9  |    0.912808 | -0.0128079   |\n",
            "| 93 |     0.81 |    0.845332 | -0.0353317   |\n",
            "| 94 |     0.81 |    0.643118 |  0.166882    |\n",
            "| 95 |     0.64 |    0.596122 |  0.0438784   |\n",
            "| 96 |     0.71 |    0.732893 | -0.0228934   |\n",
            "| 97 |     0.97 |    0.967872 |  0.00212842  |\n",
            "| 98 |     0.67 |    0.595577 |  0.0744232   |\n",
            "| 99 |     0.67 |    0.696532 | -0.0265317   |\n"
          ],
          "name": "stdout"
        },
        {
          "output_type": "execute_result",
          "data": {
            "text/plain": [
              "<matplotlib.legend.Legend at 0x7f7d87b8fe50>"
            ]
          },
          "metadata": {
            "tags": []
          },
          "execution_count": 8
        },
        {
          "output_type": "display_data",
          "data": {
            "image/png": "[encoded data removed]",
            "text/plain": [
              "<Figure size 432x288 with 1 Axes>"
            ]
          },
          "metadata": {
            "tags": [],
            "needs_background": "light"
          }
        }
      ]
    },
    {
      "cell_type": "markdown",
      "metadata": {
        "id": "6Il9Luul3SdF"
      },
      "source": [
        "This MLP performs pretty well, predicting the value to within ~5 hundreths of the actual for most of the testing set. There are a few outliers which that (points 51, 52, 94) that are poorly predicted but overall, not bad. The error plot above shows that generally the prediction is more accurate as the real percentage increases."
      ]
    },
    {
      "cell_type": "markdown",
      "metadata": {
        "id": "vN5AlQJjUPo8"
      },
      "source": [
        "Linear Regression"
      ]
    },
    {
      "cell_type": "code",
      "metadata": {
        "colab": {
          "base_uri": "https://localhost:8080/",
          "height": 1000
        },
        "id": "f7kwDXqJUPQC",
        "outputId": "aba3f272-bade-46dc-8ef8-68827a3f7376"
      },
      "source": [
        "from sklearn.linear_model import LinearRegression\n",
        "\n",
        "linreg = LinearRegression(normalize=True, copy_X=False).fit(X_train, y_train)\n",
        "\n",
        "pred = linreg.predict(X_test)\n",
        "\n",
        "print(f'sse = {np.sum((pred - y_test)**2)}')\n",
        "print(f'Coefficients: {linreg.coef_}')\n",
        "\n",
        "df = pd.DataFrame(data={'real': y_test, 'predicted': pred, 'difference': y_test - pred})\n",
        "print(df.to_markdown())\n",
        "\n",
        "plt.scatter(pred, y_test)\n",
        "plt.plot([0.5,1], [0.5,1], color='k', label='line of perfect prediction')\n",
        "plt.xlabel('predicted')\n",
        "plt.ylabel('actual')\n",
        "plt.legend(loc='best')"
      ],
      "execution_count": 9,
      "outputs": [
        {
          "output_type": "stream",
          "text": [
            "sse = 0.3246757305955682\n",
            "Coefficients: [0.00210134 0.00262971 0.00664056 0.00128658 0.01488505 0.11474722\n",
            " 0.02836141]\n",
            "|    |   real |   predicted |   difference |\n",
            "|---:|-------:|------------:|-------------:|\n",
            "|  0 |   0.94 |    0.932246 |  0.00775402  |\n",
            "|  1 |   0.7  |    0.695703 |  0.00429677  |\n",
            "|  2 |   0.9  |    0.938743 | -0.0387425   |\n",
            "|  3 |   0.72 |    0.618179 |  0.101821    |\n",
            "|  4 |   0.75 |    0.710455 |  0.0395453   |\n",
            "|  5 |   0.72 |    0.709428 |  0.0105717   |\n",
            "|  6 |   0.92 |    0.894453 |  0.025547    |\n",
            "|  7 |   0.57 |    0.587855 | -0.0178552   |\n",
            "|  8 |   0.52 |    0.505035 |  0.0149652   |\n",
            "|  9 |   0.84 |    0.737627 |  0.102373    |\n",
            "| 10 |   0.94 |    0.962607 | -0.0226066   |\n",
            "| 11 |   0.52 |    0.590377 | -0.0703766   |\n",
            "| 12 |   0.64 |    0.622089 |  0.0179111   |\n",
            "| 13 |   0.72 |    0.698773 |  0.0212273   |\n",
            "| 14 |   0.71 |    0.638054 |  0.0719463   |\n",
            "| 15 |   0.62 |    0.644488 | -0.024488    |\n",
            "| 16 |   0.61 |    0.655626 | -0.045626    |\n",
            "| 17 |   0.76 |    0.760811 | -0.000811408 |\n",
            "| 18 |   0.65 |    0.629941 |  0.0200591   |\n",
            "| 19 |   0.73 |    0.754089 | -0.0240889   |\n",
            "| 20 |   0.64 |    0.621701 |  0.0182994   |\n",
            "| 21 |   0.95 |    0.933453 |  0.0165469   |\n",
            "| 22 |   0.77 |    0.691666 |  0.0783338   |\n",
            "| 23 |   0.91 |    0.907865 |  0.00213499  |\n",
            "| 24 |   0.42 |    0.506522 | -0.0865219   |\n",
            "| 25 |   0.61 |    0.608396 |  0.00160431  |\n",
            "| 26 |   0.78 |    0.85967  | -0.0796701   |\n",
            "| 27 |   0.75 |    0.75678  | -0.00678006  |\n",
            "| 28 |   0.77 |    0.790911 | -0.0209106   |\n",
            "| 29 |   0.81 |    0.807486 |  0.00251393  |\n",
            "| 30 |   0.65 |    0.60177  |  0.0482304   |\n",
            "| 31 |   0.93 |    0.889887 |  0.0401125   |\n",
            "| 32 |   0.64 |    0.618815 |  0.0211846   |\n",
            "| 33 |   0.85 |    0.823621 |  0.0263785   |\n",
            "| 34 |   0.73 |    0.730335 | -0.000334714 |\n",
            "| 35 |   0.71 |    0.678982 |  0.0310176   |\n",
            "| 36 |   0.71 |    0.730378 | -0.0203782   |\n",
            "| 37 |   0.82 |    0.84487  | -0.0248699   |\n",
            "| 38 |   0.93 |    0.904178 |  0.0258217   |\n",
            "| 39 |   0.79 |    0.690181 |  0.0998191   |\n",
            "| 40 |   0.94 |    0.947927 | -0.00792656  |\n",
            "| 41 |   0.53 |    0.54378  | -0.0137804   |\n",
            "| 42 |   0.8  |    0.780509 |  0.0194912   |\n",
            "| 43 |   0.79 |    0.782749 |  0.0072513   |\n",
            "| 44 |   0.74 |    0.719355 |  0.0206448   |\n",
            "| 45 |   0.81 |    0.739106 |  0.0708938   |\n",
            "| 46 |   0.62 |    0.597514 |  0.0224858   |\n",
            "| 47 |   0.92 |    0.908176 |  0.0118244   |\n",
            "| 48 |   0.71 |    0.638845 |  0.0711547   |\n",
            "| 49 |   0.72 |    0.681328 |  0.0386722   |\n",
            "| 50 |   0.88 |    0.856365 |  0.0236353   |\n",
            "| 51 |   0.56 |    0.706772 | -0.146772    |\n",
            "| 52 |   0.49 |    0.659818 | -0.169818    |\n",
            "| 53 |   0.74 |    0.691596 |  0.0484043   |\n",
            "| 54 |   0.7  |    0.684979 |  0.0150208   |\n",
            "| 55 |   0.84 |    0.817881 |  0.0221187   |\n",
            "| 56 |   0.89 |    0.854015 |  0.0359855   |\n",
            "| 57 |   0.73 |    0.679601 |  0.0503991   |\n",
            "| 58 |   0.94 |    0.933599 |  0.0064008   |\n",
            "| 59 |   0.57 |    0.515881 |  0.0541186   |\n",
            "| 60 |   0.47 |    0.512215 | -0.0422149   |\n",
            "| 61 |   0.82 |    0.770109 |  0.0498913   |\n",
            "| 62 |   0.73 |    0.712499 |  0.0175007   |\n",
            "| 63 |   0.65 |    0.604541 |  0.0454588   |\n",
            "| 64 |   0.59 |    0.558524 |  0.031476    |\n",
            "| 65 |   0.71 |    0.789191 | -0.079191    |\n",
            "| 66 |   0.44 |    0.521976 | -0.0819759   |\n",
            "| 67 |   0.48 |    0.579875 | -0.0998747   |\n",
            "| 68 |   0.49 |    0.621407 | -0.131407    |\n",
            "| 69 |   0.65 |    0.620359 |  0.0296413   |\n",
            "| 70 |   0.67 |    0.590541 |  0.0794588   |\n",
            "| 71 |   0.87 |    0.86099  |  0.00900993  |\n",
            "| 72 |   0.91 |    0.883109 |  0.0268907   |\n",
            "| 73 |   0.72 |    0.662873 |  0.0571271   |\n",
            "| 74 |   0.37 |    0.47709  | -0.10709     |\n",
            "| 75 |   0.94 |    0.952406 | -0.0124055   |\n",
            "| 76 |   0.71 |    0.660727 |  0.0492735   |\n",
            "| 77 |   0.81 |    0.788559 |  0.0214411   |\n",
            "| 78 |   0.54 |    0.519161 |  0.0208392   |\n",
            "| 79 |   0.94 |    0.953212 | -0.0132122   |\n",
            "| 80 |   0.65 |    0.623821 |  0.0261791   |\n",
            "| 81 |   0.8  |    0.782207 |  0.0177935   |\n",
            "| 82 |   0.47 |    0.474865 | -0.00486496  |\n",
            "| 83 |   0.52 |    0.745689 | -0.225689    |\n",
            "| 84 |   0.72 |    0.670183 |  0.0498168   |\n",
            "| 85 |   0.96 |    0.952577 |  0.00742284  |\n",
            "| 86 |   0.95 |    0.888138 |  0.0618621   |\n",
            "| 87 |   0.84 |    0.834903 |  0.00509742  |\n",
            "| 88 |   0.78 |    0.778476 |  0.00152419  |\n",
            "| 89 |   0.78 |    0.761276 |  0.0187237   |\n",
            "| 90 |   0.77 |    0.704522 |  0.0654777   |\n",
            "| 91 |   0.76 |    0.716024 |  0.0439761   |\n",
            "| 92 |   0.9  |    0.903717 | -0.00371682  |\n",
            "| 93 |   0.81 |    0.847875 | -0.037875    |\n",
            "| 94 |   0.81 |    0.659233 |  0.150767    |\n",
            "| 95 |   0.64 |    0.566235 |  0.0737655   |\n",
            "| 96 |   0.71 |    0.731454 | -0.0214536   |\n",
            "| 97 |   0.97 |    0.985243 | -0.0152426   |\n",
            "| 98 |   0.67 |    0.634645 |  0.0353553   |\n",
            "| 99 |   0.67 |    0.695328 | -0.0253284   |\n"
          ],
          "name": "stdout"
        },
        {
          "output_type": "execute_result",
          "data": {
            "text/plain": [
              "<matplotlib.legend.Legend at 0x7f7d87accc90>"
            ]
          },
          "metadata": {
            "tags": []
          },
          "execution_count": 9
        },
        {
          "output_type": "display_data",
          "data": {
            "image/png": "[encoded data removed]",
            "text/plain": [
              "<Figure size 432x288 with 1 Axes>"
            ]
          },
          "metadata": {
            "tags": [],
            "needs_background": "light"
          }
        }
      ]
    },
    {
      "cell_type": "markdown",
      "metadata": {
        "id": "TSu_v30X2ntt"
      },
      "source": [
        "In terms of sse, linear regression actually does ever so slightly better my MLP which is a little surprising. This mainly comes down to eliminating the outliers in the MLP prediction. At a quick glance the error plots are almost identicle which leads me to believe the data is strongly linearily correlated"
      ]
    },
    {
      "cell_type": "markdown",
      "metadata": {
        "id": "3R8HeBjE-4BU"
      },
      "source": [
        "Transforming it into a classification problem\n",
        "\n",
        "Ideally I would split the classes at p=0.5 meaning the classes would correspond to \"likely\" or \"not likely\" to get into college. However, ~93% of the data is above p=0.5 so I chose a split point that creates an equal number of both classes. At p=0.725, there are 248 points above that and 252 which is as equal as possible."
      ]
    },
    {
      "cell_type": "code",
      "metadata": {
        "colab": {
          "base_uri": "https://localhost:8080/"
        },
        "id": "Y7QgAyXI0UZr",
        "outputId": "30a8b405-d593-4a21-d3fd-737d6b7d2640"
      },
      "source": [
        "#splits y data in classes 0 and 1\n",
        "y_class = np.array([1 if item >= 0.725 else 0 for item in y])\n",
        "\n",
        "#standardize X\n",
        "from sklearn.preprocessing import StandardScaler\n",
        "\n",
        "sc = StandardScaler()\n",
        "sc.fit(X)\n",
        "X_std = sc.transform(X)\n",
        "\n",
        "X_train_std, X_test_std, y_train_class, y_test_class = train_test_split(X_std, y_class, test_size=0.2, random_state=55)\n",
        "\n",
        "from sklearn.neural_network import MLPClassifier\n",
        "\n",
        "mlp = MLPClassifier(hidden_layer_sizes=(50,10),\n",
        "                    momentum=0.75,\n",
        "                    learning_rate_init=0.00001,\n",
        "                    max_iter=1000,\n",
        "                    validation_fraction=0.25,\n",
        "                    batch_size=10,\n",
        "                    early_stopping=True,\n",
        "                    shuffle=True,\n",
        "                    activation='relu',\n",
        "                    solver='lbfgs',\n",
        "                    learning_rate='constant',\n",
        "                    random_state=23,\n",
        "                    verbose=False)\n",
        "\n",
        "mlp = mlp.fit(X_train_std, y_train_class)\n",
        "\n",
        "print(f'Number of epochs completed: {mlp.n_iter_}')\n",
        "\n",
        "accuracy = mlp.score(X_test_std, y_test_class)\n",
        "print(f'MLPClassifier Accuracy = {100 * accuracy}%')"
      ],
      "execution_count": 10,
      "outputs": [
        {
          "output_type": "stream",
          "text": [
            "Number of epochs completed: 78\n",
            "MLPClassifier Accuracy = 88.0%\n"
          ],
          "name": "stdout"
        }
      ]
    },
    {
      "cell_type": "markdown",
      "metadata": {
        "id": "TMQZGgo-Od_u"
      },
      "source": [
        "SVM"
      ]
    },
    {
      "cell_type": "code",
      "metadata": {
        "colab": {
          "base_uri": "https://localhost:8080/"
        },
        "id": "NeF2LETZOGvd",
        "outputId": "00ab0b9e-476d-4434-cc03-ca48873a4aaa"
      },
      "source": [
        "from sklearn.svm import LinearSVC, SVC\n",
        "\n",
        "linearsvc = LinearSVC(dual=False, random_state=55).fit(X_train_std, y_train_class)\n",
        "\n",
        "accuracy = linearsvc.score(X_test_std, y_test_class)\n",
        "print(f'LinearSVC Accuracy = {100 * accuracy}%')\n",
        "\n",
        "svc = SVC(kernel='rbf', gamma=0.1, random_state=55, probability=True).fit(X_train_std, y_train_class)\n",
        "\n",
        "accuracy = svc.score(X_test_std, y_test_class)\n",
        "print(f'RBF kernel SVC Accuracy = {100 * accuracy}%')"
      ],
      "execution_count": 11,
      "outputs": [
        {
          "output_type": "stream",
          "text": [
            "LinearSVC Accuracy = 86.0%\n",
            "RBF kernel SVC Accuracy = 88.0%\n"
          ],
          "name": "stdout"
        }
      ]
    },
    {
      "cell_type": "markdown",
      "metadata": {
        "id": "d8gp1xE7otr7"
      },
      "source": [
        "All 3 classifications algorithms perform almost identically on the data. 88/86% accuracy good but it isn't great, although ensemble learning could certainly boost the accuracy into the 90s. The similar performance of the Linear and RBF kernel SVMs confirm my suspiction that the data is strongly linearly correlated which means it would be very linearily separable as a classification problem."
      ]
    }
  ]
}