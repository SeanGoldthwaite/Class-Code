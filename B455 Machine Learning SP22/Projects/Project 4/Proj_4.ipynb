{
  "nbformat": 4,
  "nbformat_minor": 0,
  "metadata": {
    "colab": {
      "name": "Proj 4.ipynb",
      "provenance": [],
      "collapsed_sections": []
    },
    "kernelspec": {
      "name": "python3",
      "display_name": "Python 3"
    },
    "language_info": {
      "name": "python"
    }
  },
  "cells": [
    {
      "cell_type": "code",
      "metadata": {
        "id": "RPBsuXUx3fp2"
      },
      "source": [
        "#loading processed data from https://colab.research.google.com/drive/17dLa4gGeGand9ReF2vuty01dFU-A6Zmd?usp=sharing\n",
        "import pickle\n",
        "\n",
        "f1 = open('/content/drive/MyDrive/B455/Project 4/Data/preprocessed_data.p', 'rb')\n",
        "f2 = open('/content/drive/MyDrive/B455/Project 4/Data/preprocessed_data_no_zeros.p', 'rb')\n",
        "f3 = open('/content/drive/MyDrive/B455/Project 4/Data/vocab_list.p', 'rb')\n",
        "X_z, y_z = pickle.load(f1)\n",
        "X, y = pickle.load(f2)\n",
        "vocab_list = pickle.load(f3)\n",
        "f1.close()\n",
        "f2.close()\n",
        "f3.close()"
      ],
      "execution_count": 80,
      "outputs": []
    },
    {
      "cell_type": "code",
      "metadata": {
        "colab": {
          "base_uri": "https://localhost:8080/"
        },
        "id": "3HS_riAvd0KH",
        "outputId": "a4d41b5f-a33e-49ed-c5da-d61b4441bdb0"
      },
      "source": [
        "print(X.shape)\n",
        "print(X_z.shape)"
      ],
      "execution_count": 81,
      "outputs": [
        {
          "output_type": "stream",
          "text": [
            "(50000, 500)\n",
            "(50000, 501)\n"
          ],
          "name": "stdout"
        }
      ]
    },
    {
      "cell_type": "markdown",
      "metadata": {
        "id": "IDv5jlOw5R5c"
      },
      "source": [
        "X_z (X with zeros) has an extra feature compared to X which is the xero weighted words bucket."
      ]
    },
    {
      "cell_type": "code",
      "metadata": {
        "colab": {
          "base_uri": "https://localhost:8080/",
          "height": 312
        },
        "id": "3xz81YXYhT1M",
        "outputId": "88e0146d-d3ec-405a-bc39-4c7133b97c18"
      },
      "source": [
        "import numpy as np\n",
        "import matplotlib.pyplot as plt\n",
        "\n",
        "vocab_weights = [item[1] for item in vocab_list[:-1]]\n",
        "plt.plot(vocab_weights, np.sum(X, axis=0), color='k')\n",
        "plt.xlabel('word weight')\n",
        "plt.ylabel('approximate frequency')\n",
        "plt.title('word weight distribution')"
      ],
      "execution_count": 82,
      "outputs": [
        {
          "output_type": "execute_result",
          "data": {
            "text/plain": [
              "Text(0.5, 1.0, 'word weight distribution')"
            ]
          },
          "metadata": {
            "tags": []
          },
          "execution_count": 82
        },
        {
          "output_type": "display_data",
          "data": {
            "image/png": "[encoded data removed]",
            "text/plain": [
              "<Figure size 432x288 with 1 Axes>"
            ]
          },
          "metadata": {
            "tags": [],
            "needs_background": "light"
          }
        }
      ]
    },
    {
      "cell_type": "code",
      "metadata": {
        "colab": {
          "base_uri": "https://localhost:8080/"
        },
        "id": "mw3UTlQoSghk",
        "outputId": "3d7e68f3-7357-49e3-eff7-446423376422"
      },
      "source": [
        "#standardize the data\n",
        "from sklearn.preprocessing import StandardScaler\n",
        "\n",
        "sc = StandardScaler()\n",
        "sc.fit(X_z)\n",
        "X_z = sc.transform(X_z)\n",
        "\n",
        "from sklearn.model_selection import train_test_split\n",
        "from sklearn.linear_model import LogisticRegressionCV\n",
        "\n",
        "X_train_z, X_test_z, y_train_z, y_test_z = train_test_split(X_z, y_z, test_size=0.2, random_state=55)\n",
        "\n",
        "print(f'Training X shape: {X_train_z.shape}\\nTraining y shape: {y_train_z.shape}')\n",
        "print(f'Testing X shape: {X_test_z.shape}\\nTesting y shape: {y_test_z.shape}')\n",
        "\n",
        "logit_zeros = LogisticRegressionCV(cv=5, solver='sag', random_state=55, verbose=1)\n",
        "logit_zeros = logit_zeros.fit(X_train_z, y_train_z)"
      ],
      "execution_count": 83,
      "outputs": [
        {
          "output_type": "stream",
          "text": [
            "Training X shape: (40000, 501)\n",
            "Training y shape: (40000,)\n",
            "Testing X shape: (10000, 501)\n",
            "Testing y shape: (10000,)\n"
          ],
          "name": "stdout"
        },
        {
          "output_type": "stream",
          "text": [
            "[Parallel(n_jobs=1)]: Using backend SequentialBackend with 1 concurrent workers.\n"
          ],
          "name": "stderr"
        },
        {
          "output_type": "stream",
          "text": [
            "convergence after 13 epochs took 2 seconds\n",
            "convergence after 15 epochs took 2 seconds\n",
            "convergence after 17 epochs took 3 seconds\n",
            "convergence after 14 epochs took 2 seconds\n",
            "convergence after 10 epochs took 1 seconds\n",
            "convergence after 6 epochs took 1 seconds\n",
            "convergence after 2 epochs took 0 seconds\n",
            "convergence after 2 epochs took 0 seconds\n",
            "convergence after 2 epochs took 1 seconds\n",
            "convergence after 2 epochs took 0 seconds\n",
            "convergence after 13 epochs took 2 seconds\n",
            "convergence after 15 epochs took 2 seconds\n",
            "convergence after 18 epochs took 3 seconds\n",
            "convergence after 14 epochs took 1 seconds\n",
            "convergence after 10 epochs took 2 seconds\n",
            "convergence after 5 epochs took 1 seconds\n",
            "convergence after 2 epochs took 0 seconds\n",
            "convergence after 2 epochs took 0 seconds\n",
            "convergence after 2 epochs took 0 seconds\n",
            "convergence after 2 epochs took 1 seconds\n",
            "convergence after 14 epochs took 2 seconds\n",
            "convergence after 15 epochs took 2 seconds\n",
            "convergence after 17 epochs took 2 seconds\n",
            "convergence after 14 epochs took 2 seconds\n",
            "convergence after 10 epochs took 1 seconds\n",
            "convergence after 5 epochs took 1 seconds\n",
            "convergence after 2 epochs took 0 seconds\n",
            "convergence after 2 epochs took 1 seconds\n",
            "convergence after 2 epochs took 0 seconds\n",
            "convergence after 2 epochs took 0 seconds\n",
            "convergence after 13 epochs took 2 seconds\n",
            "convergence after 16 epochs took 3 seconds\n",
            "convergence after 17 epochs took 2 seconds\n",
            "convergence after 15 epochs took 2 seconds\n",
            "convergence after 10 epochs took 1 seconds\n",
            "convergence after 5 epochs took 1 seconds\n",
            "convergence after 2 epochs took 0 seconds\n",
            "convergence after 2 epochs took 1 seconds\n",
            "convergence after 2 epochs took 0 seconds\n",
            "convergence after 2 epochs took 0 seconds\n",
            "convergence after 13 epochs took 2 seconds\n",
            "convergence after 16 epochs took 2 seconds\n",
            "convergence after 18 epochs took 3 seconds\n",
            "convergence after 14 epochs took 2 seconds\n",
            "convergence after 10 epochs took 1 seconds\n",
            "convergence after 6 epochs took 1 seconds\n",
            "convergence after 2 epochs took 0 seconds\n",
            "convergence after 2 epochs took 1 seconds\n",
            "convergence after 2 epochs took 0 seconds\n",
            "convergence after 2 epochs took 0 seconds\n"
          ],
          "name": "stdout"
        },
        {
          "output_type": "stream",
          "text": [
            "[Parallel(n_jobs=1)]: Done   5 out of   5 | elapsed:   58.9s finished\n"
          ],
          "name": "stderr"
        }
      ]
    },
    {
      "cell_type": "code",
      "metadata": {
        "colab": {
          "base_uri": "https://localhost:8080/"
        },
        "id": "sJsUtoLQJ6_d",
        "outputId": "19e648f4-577c-4a3c-8bd5-24ef304d0a67"
      },
      "source": [
        "from sklearn.metrics import confusion_matrix\n",
        "\n",
        "pred_z = logit_zeros.predict(X_test_z)\n",
        "cm_norm_z = confusion_matrix(y_test_z, pred_z, normalize='all')\n",
        "print(f'Normalized confusion Matrix on X_test where zero weighted words are included:\\n{cm_norm_z}')\n",
        "print(f'Overall Accuracy: {np.trace(cm_norm_z) * 100:.2f}%')"
      ],
      "execution_count": 84,
      "outputs": [
        {
          "output_type": "stream",
          "text": [
            "Normalized confusion Matrix on X_test where zero weighted words are included:\n",
            "[[0.4271 0.0625]\n",
            " [0.0543 0.4561]]\n",
            "Overall Accuracy: 88.32%\n"
          ],
          "name": "stdout"
        }
      ]
    },
    {
      "cell_type": "code",
      "metadata": {
        "colab": {
          "base_uri": "https://localhost:8080/"
        },
        "id": "bAUFGGSnkSw8",
        "outputId": "fd7330ba-6447-4a52-b290-d615f501c27c"
      },
      "source": [
        "#standardize the data\n",
        "sc = StandardScaler()\n",
        "sc.fit(X)\n",
        "X = sc.transform(X)\n",
        "\n",
        "X_train, X_test, y_train, y_test = train_test_split(X, y, test_size=0.2, random_state=55)\n",
        "\n",
        "logit = LogisticRegressionCV(cv=5, solver='sag', random_state=55, verbose=1)\n",
        "logit = logit.fit(X_train, y_train)"
      ],
      "execution_count": 85,
      "outputs": [
        {
          "output_type": "stream",
          "text": [
            "[Parallel(n_jobs=1)]: Using backend SequentialBackend with 1 concurrent workers.\n"
          ],
          "name": "stderr"
        },
        {
          "output_type": "stream",
          "text": [
            "convergence after 13 epochs took 2 seconds\n",
            "convergence after 15 epochs took 2 seconds\n",
            "convergence after 17 epochs took 2 seconds\n",
            "convergence after 14 epochs took 2 seconds\n",
            "convergence after 10 epochs took 2 seconds\n",
            "convergence after 6 epochs took 1 seconds\n",
            "convergence after 2 epochs took 0 seconds\n",
            "convergence after 2 epochs took 0 seconds\n",
            "convergence after 2 epochs took 0 seconds\n",
            "convergence after 2 epochs took 1 seconds\n",
            "convergence after 13 epochs took 2 seconds\n",
            "convergence after 15 epochs took 2 seconds\n",
            "convergence after 18 epochs took 2 seconds\n",
            "convergence after 14 epochs took 2 seconds\n",
            "convergence after 10 epochs took 2 seconds\n",
            "convergence after 6 epochs took 1 seconds\n",
            "convergence after 2 epochs took 0 seconds\n",
            "convergence after 2 epochs took 0 seconds\n",
            "convergence after 2 epochs took 0 seconds\n",
            "convergence after 2 epochs took 1 seconds\n",
            "convergence after 14 epochs took 2 seconds\n",
            "convergence after 15 epochs took 2 seconds\n",
            "convergence after 17 epochs took 2 seconds\n",
            "convergence after 14 epochs took 2 seconds\n",
            "convergence after 10 epochs took 2 seconds\n",
            "convergence after 5 epochs took 0 seconds\n",
            "convergence after 2 epochs took 1 seconds\n",
            "convergence after 2 epochs took 0 seconds\n",
            "convergence after 2 epochs took 0 seconds\n",
            "convergence after 2 epochs took 0 seconds\n",
            "convergence after 13 epochs took 1 seconds\n",
            "convergence after 16 epochs took 3 seconds\n",
            "convergence after 17 epochs took 2 seconds\n",
            "convergence after 15 epochs took 2 seconds\n",
            "convergence after 10 epochs took 1 seconds\n",
            "convergence after 5 epochs took 1 seconds\n",
            "convergence after 2 epochs took 0 seconds\n",
            "convergence after 2 epochs took 1 seconds\n",
            "convergence after 2 epochs took 0 seconds\n",
            "convergence after 2 epochs took 0 seconds\n",
            "convergence after 13 epochs took 2 seconds\n",
            "convergence after 16 epochs took 2 seconds\n",
            "convergence after 18 epochs took 3 seconds\n",
            "convergence after 14 epochs took 2 seconds\n",
            "convergence after 10 epochs took 1 seconds\n",
            "convergence after 6 epochs took 1 seconds\n",
            "convergence after 2 epochs took 0 seconds\n",
            "convergence after 2 epochs took 1 seconds\n",
            "convergence after 2 epochs took 0 seconds\n",
            "convergence after 2 epochs took 0 seconds\n"
          ],
          "name": "stdout"
        },
        {
          "output_type": "stream",
          "text": [
            "[Parallel(n_jobs=1)]: Done   5 out of   5 | elapsed:   59.2s finished\n"
          ],
          "name": "stderr"
        }
      ]
    },
    {
      "cell_type": "code",
      "metadata": {
        "colab": {
          "base_uri": "https://localhost:8080/"
        },
        "id": "yHHh1oWmlEF1",
        "outputId": "81340b38-db2a-4065-91dc-eefe827a9e3b"
      },
      "source": [
        "from sklearn.metrics import confusion_matrix\n",
        "\n",
        "pred = logit.predict(X_test)\n",
        "cm_norm = confusion_matrix(y_test, pred, normalize='all')\n",
        "print(f'Confusion Matrix on X_test where zero weighted words are NOT included:\\n{cm_norm}')\n",
        "print(f'Overall Accuracy: {np.trace(cm_norm) * 100:.2f}%')"
      ],
      "execution_count": 94,
      "outputs": [
        {
          "output_type": "stream",
          "text": [
            "Confusion Matrix on X_test where zero weighted words are NOT included:\n",
            "[[0.4266 0.063 ]\n",
            " [0.0532 0.4572]]\n",
            "Overall Accuracy: 88.38%\n"
          ],
          "name": "stdout"
        }
      ]
    },
    {
      "cell_type": "markdown",
      "metadata": {
        "id": "jhezdT2H5heR"
      },
      "source": [
        "Report: When I started I wasn't sure if the bucketing method would work but my results show that it did. It importantly reduced the data load of colab but it also gave each data point a unfirom number of features because the raw data has anywhere from 50-150 features per datapoint. \n",
        "\n",
        "Results: The results I obtained aren't bad but I know they could be better with some tweaking. Perhaps more buckets would lead to a more nuaced view at the data. The frequency distribution above shows that there are significantly more words weighted near or at 0 compared to those on the extremes. Spliting the words into equal sized buckets could give more precedence to the more polarizing words compared to the words weighted close to 0."
      ]
    }
  ]
}