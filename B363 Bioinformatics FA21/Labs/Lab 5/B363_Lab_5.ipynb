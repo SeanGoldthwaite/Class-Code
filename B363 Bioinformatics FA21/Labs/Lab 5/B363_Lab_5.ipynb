{
  "nbformat": 4,
  "nbformat_minor": 0,
  "metadata": {
    "colab": {
      "name": "B363 Lab 5.ipynb",
      "provenance": []
    },
    "kernelspec": {
      "name": "python3",
      "display_name": "Python 3"
    },
    "language_info": {
      "name": "python"
    }
  },
  "cells": [
    {
      "cell_type": "code",
      "metadata": {
        "id": "8fnQog8XNHxq"
      },
      "source": [
        "mass_table = {'G': 57,\n",
        "              'A': 71,\n",
        "              'S': 87,\n",
        "              'P': 97,\n",
        "              'V': 99,\n",
        "              'T': 101,\n",
        "              'C': 103,\n",
        "              'I': 113,\n",
        "              'L': 113,\n",
        "              'N': 114,\n",
        "              'D': 115,\n",
        "              'K': 128,\n",
        "              'Q': 128,\n",
        "              'E': 129,\n",
        "              'M': 131,\n",
        "              'H': 137,\n",
        "              'F': 147,\n",
        "              'R': 156,\n",
        "              'Y': 163,\n",
        "              'W': 186}\n",
        "\n",
        "peptide_list = ['G', 'A', 'S', 'P', 'V', 'T', 'C', 'I', 'N', 'D', 'K', 'E', 'M', 'H', 'F', 'R', 'Y', 'W']"
      ],
      "execution_count": 112,
      "outputs": []
    },
    {
      "cell_type": "code",
      "metadata": {
        "colab": {
          "base_uri": "https://localhost:8080/"
        },
        "id": "V27dZdqXN7iT",
        "outputId": "c4d44935-5d23-4810-c47b-e2a296418673"
      },
      "source": [
        "def peptide_to_mass(peptide):\n",
        "  return sum([mass_table[amino_acid] for amino_acid in peptide])\n",
        "\n",
        "\n",
        "\n",
        "def calc_spectrum(peptide):\n",
        "  total_mass = peptide_to_mass(peptide)\n",
        "  spectrum = [0]\n",
        "  spectrum.append(total_mass)\n",
        "\n",
        "  length = len(peptide)\n",
        "  for i in range(length):\n",
        "    for j in range(i):\n",
        "      v = peptide_to_mass(peptide[:i]) - peptide_to_mass(peptide[:j])\n",
        "      spectrum.append(v)\n",
        "      spectrum.append(total_mass - v)\n",
        "\n",
        "  return sorted(spectrum)\n",
        "\n",
        "peptide = 'VNMF'\n",
        "spectrum = calc_spectrum(peptide)\n",
        "\n",
        "for a in spectrum:\n",
        "  print(a, end=' ')"
      ],
      "execution_count": 113,
      "outputs": [
        {
          "output_type": "stream",
          "name": "stdout",
          "text": [
            "0 99 114 131 147 213 245 246 278 344 360 377 392 491 "
          ]
        }
      ]
    },
    {
      "cell_type": "code",
      "metadata": {
        "colab": {
          "base_uri": "https://localhost:8080/"
        },
        "id": "dEaxaSu0TkPe",
        "outputId": "d6dfb2d5-fcab-4e72-9aa3-f073be037924"
      },
      "source": [
        "def find_peptide(spectrum):\n",
        "  print(spectrum)\n",
        "  max_mass = max(spectrum)\n",
        "  peptides = [([], 0)]\n",
        "  matches = []\n",
        "\n",
        "  while peptides:\n",
        "    for peptide in peptides:\n",
        "      #print(peptide)\n",
        "      peptides.remove(peptide)\n",
        "      current_mass = peptide[1]\n",
        "      current_peptide = peptide[0]\n",
        "      for amino_acid in peptide_list:\n",
        "        new_mass = current_mass + mass_table[amino_acid]\n",
        "        if new_mass == max_mass and calc_spectrum(current_peptide + [amino_acid]) == spectrum:\n",
        "          matches.append(current_peptide + [amino_acid])\n",
        "        elif new_mass in spectrum and new_mass < max_mass:\n",
        "          peptides.append((current_peptide + [amino_acid], new_mass))\n",
        "\n",
        "  return matches\n",
        "\n",
        "a = find_peptide([0, 71, 71, 101, 103, 113, 113, 114, 156, 174, 184, 184, 184, 214, 215, 255, 259, 270, 285, 287, 297, 328, 330, 358, 368, 371, 373, 398, 399, 443, 444, 469, 471, 474, 484, 512, 514, 545, 555, 557, 572, 583, 587, 627, 628, 658, 658, 658, 668, 686, 728, 729, 729, 739, 741, 771, 771, 842])\n",
        "b = sorted([''.join(thing) for thing in a], reverse=True)\n",
        "print(b)\n",
        "for pep in b:\n",
        "  print(end=' ')\n",
        "  for amino_acid in pep:\n",
        "    print(mass_table[amino_acid], end='-')"
      ],
      "execution_count": 124,
      "outputs": [
        {
          "output_type": "stream",
          "name": "stdout",
          "text": [
            "[0, 71, 71, 101, 103, 113, 113, 114, 156, 174, 184, 184, 184, 214, 215, 255, 259, 270, 285, 287, 297, 328, 330, 358, 368, 371, 373, 398, 399, 443, 444, 469, 471, 474, 484, 512, 514, 545, 555, 557, 572, 583, 587, 627, 628, 658, 658, 658, 668, 686, 728, 729, 729, 739, 741, 771, 771, 842]\n",
            "['TNRCAIAI', 'TIAIACRN', 'RNTIAIAC', 'RCAIAITN', 'NTIAIACR', 'NRCAIAIT', 'ITNRCAIA', 'IAITNRCA', 'IAIACRNT', 'IACRNTIA', 'CRNTIAIA', 'CAIAITNR', 'AITNRCAI', 'AIAITNRC', 'AIACRNTI', 'ACRNTIAI']\n",
            " 101-114-156-103-71-113-71-113- 101-113-71-113-71-103-156-114- 156-114-101-113-71-113-71-103- 156-103-71-113-71-113-101-114- 114-101-113-71-113-71-103-156- 114-156-103-71-113-71-113-101- 113-101-114-156-103-71-113-71- 113-71-113-101-114-156-103-71- 113-71-113-71-103-156-114-101- 113-71-103-156-114-101-113-71- 103-156-114-101-113-71-113-71- 103-71-113-71-113-101-114-156- 71-113-101-114-156-103-71-113- 71-113-71-113-101-114-156-103- 71-113-71-103-156-114-101-113- 71-103-156-114-101-113-71-113-"
          ]
        }
      ]
    }
  ]
}