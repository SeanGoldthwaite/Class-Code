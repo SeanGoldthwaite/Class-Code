{
  "nbformat": 4,
  "nbformat_minor": 0,
  "metadata": {
    "colab": {
      "name": "Sentiment analysis example.ipynb",
      "provenance": []
    },
    "kernelspec": {
      "name": "python3",
      "display_name": "Python 3"
    },
    "language_info": {
      "name": "python"
    }
  },
  "cells": [
    {
      "cell_type": "code",
      "metadata": {
        "id": "7x94aQ62aEy6",
        "colab": {
          "base_uri": "https://localhost:8080/",
          "height": 334
        },
        "outputId": "81a485c0-2b8e-4b8f-ade7-0cddcdb631ea"
      },
      "source": [
        "import numpy as np\n",
        "import pandas as pd\n",
        "import matplotlib.pyplot as plt\n",
        "from mlxtend.plotting import plot_decision_regions\n",
        "from sklearn.svm import SVC\n",
        "\n",
        "np.random.seed(55)\n",
        "points = np.random.randint(1, 10, size=(20,2))\n",
        "classes = np.array([[1 if np.sum(i) > 10 else 0 for i in points]])\n",
        "data = np.concatenate((points, classes.transpose()), axis=1)\n",
        "df = pd.DataFrame(data, columns=['x', 'y', 'label'])\n",
        "\n",
        "svm = SVC(kernel='linear', random_state=55, gamma=1, C=1.0)\n",
        "svm.fit(df[['x', 'y']], df['label'])\n",
        "\n",
        "plot_decision_regions(df[['x', 'y']].to_numpy(), df['label'].to_numpy(), clf=svm, colors='blue,red')\n",
        "plt.axis([0, 10, 0, 10])\n",
        "plt.xlabel('Director quality')\n",
        "plt.ylabel('Cinematography quality')"
      ],
      "execution_count": 10,
      "outputs": [
        {
          "output_type": "stream",
          "text": [
            "/usr/local/lib/python3.7/dist-packages/mlxtend/plotting/decision_regions.py:244: MatplotlibDeprecationWarning: Passing unsupported keyword arguments to axis() will raise a TypeError in 3.3.\n",
            "  ax.axis(xmin=xx.min(), xmax=xx.max(), y_min=yy.min(), y_max=yy.max())\n"
          ],
          "name": "stderr"
        },
        {
          "output_type": "execute_result",
          "data": {
            "text/plain": [
              "Text(0, 0.5, 'Cinematography quality')"
            ]
          },
          "metadata": {
            "tags": []
          },
          "execution_count": 10
        },
        {
          "output_type": "display_data",
          "data": {
            "image/png": "[encoded data removed]",
            "text/plain": [
              "<Figure size 432x288 with 1 Axes>"
            ]
          },
          "metadata": {
            "tags": [],
            "needs_background": "light"
          }
        }
      ]
    },
    {
      "cell_type": "markdown",
      "metadata": {
        "id": "VlmG0X4ao4I_"
      },
      "source": [
        "Here is a pretty simple example of how an SVM can be applied to sentiment analysis. Here there are 2 attributes with values that range from 1-10 which represent a finer opinion about a movie (director and cinematography quality here). If the sum of the two values is greater than 10, the review is 'positive' else it is 'negative'. The SVM does a very good job of classifying the data here, as expected, because the data is linearly separable. In a real world dataset the cutoff between positive and negative would be less clear (perhaps there is even a 'neutral' sentiment) but the SVM should be able to accomadte with only minor changes."
      ]
    }
  ]
}