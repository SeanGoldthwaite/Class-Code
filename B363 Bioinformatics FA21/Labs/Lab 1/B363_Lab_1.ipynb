{
  "nbformat": 4,
  "nbformat_minor": 0,
  "metadata": {
    "colab": {
      "name": "B363 Lab 1.ipynb",
      "provenance": [],
      "collapsed_sections": []
    },
    "kernelspec": {
      "name": "python3",
      "display_name": "Python 3"
    },
    "language_info": {
      "name": "python"
    }
  },
  "cells": [
    {
      "cell_type": "markdown",
      "metadata": {
        "id": "hJ1ngJS_QonN"
      },
      "source": [
        "Problem\n",
        "In DNA strings, symbols 'A' and 'T' are complements of each other, as are 'C' and 'G'.\n",
        "\n",
        "The reverse complement of a DNA string s is the string sc formed by reversing the symbols of s, then taking the complement of each symbol (e.g., the reverse complement of \"GTCA\" is \"TGAC\").\n",
        "\n",
        "Given: A DNA string s of length at most 1000 bp.\n",
        "\n",
        "Return: The reverse complement sc of s.\n",
        "\n",
        "Sample Dataset\n",
        "AAAACCCGGT\n",
        "Sample Output\n",
        "ACCGGGTTTT"
      ]
    },
    {
      "cell_type": "code",
      "metadata": {
        "colab": {
          "base_uri": "https://localhost:8080/"
        },
        "id": "sq3l1e3GQlaF",
        "outputId": "97ad257f-72cd-4dd4-cf04-98c557163c41"
      },
      "source": [
        "dna_str = \"ATAGGAGTTAGCTACGGCAGGTGCCTTTGGACCCTCCTCCCCGCCCCATGGAGTCAGGAAACGTCATATATCGCCGAATCTTGATCAATATGGGGGTAGGACGACGCACCCTACGCAGCGGCTTAAGACTGTAGAATCATCGATAATATCGTAAGCGTACGGTACAGACCTTGGTCAGTCCCTGTACACGGCGTTGTAAGGACACTGTAGTGTGTAGTCCGGTTAATACGATTAGATTCGTCAACAACTTATGGACGCAGCTACTACAACGCGCCGAGGGGAGCCTACCGCATGCCGACGGGTGGGGTCACAACAGTTCTCCGTCTTGTTTTGAACTACGCGAACAGTTCATTGTCGATCCAGTTGTTATCAGCCCGATAGCTCGCACCGGATGCGCAAACCGCCCCCGCCACGCCCATGCACGTCACCAGAACAGCAAGGGACGATCAATTAAAGACCCGCGCTAGCGAAATGCGTTGCGCTCTGGGCCTCGAGGGACATCTAATGCGATGGATTATAGAAAGTTCGTTACACGTTGACACAGGGGCTATCTTTTGAGTTTTATGCTTAGGCCCCTAACTGCAAGCACGAATCATACCAATTTTTCCTCTAATCTAAGCGATGTCATCGTTCCCATATGGTCCTGATGCACCACTACAATCAGGAGGCAAAGCTTCCCCCCGTATCTATTTCCGCAGCTCTTATTCCACCGGCGGTCGCACTAATCCCCGGCAAAGACTGCCTCTGAGTCGGATTAAGGGCAATGCGTCTCGCGCTCAGGGGTAGTCTCAACTCTGGATCAGAGGGACTGCCTAAGCCTCGCTAGATAGTGGAACGTCTACAGGAATAGATAGCCCACTCAATTCCAGTTACGGACTATGATCCTAATCACCGAGAATCCGAGGACCTCCACCTGCCAAGCTCTATACTGACTGGATGCTTAC\"\n",
        "\n",
        "dna_comp = dna_str.translate(dna_str.maketrans('ATCG', 'TAGC'))[::-1]\n",
        "\n",
        "#print(dna_str)\n",
        "print(dna_comp)"
      ],
      "execution_count": null,
      "outputs": [
        {
          "output_type": "stream",
          "text": [
            "GTAAGCATCCAGTCAGTATAGAGCTTGGCAGGTGGAGGTCCTCGGATTCTCGGTGATTAGGATCATAGTCCGTAACTGGAATTGAGTGGGCTATCTATTCCTGTAGACGTTCCACTATCTAGCGAGGCTTAGGCAGTCCCTCTGATCCAGAGTTGAGACTACCCCTGAGCGCGAGACGCATTGCCCTTAATCCGACTCAGAGGCAGTCTTTGCCGGGGATTAGTGCGACCGCCGGTGGAATAAGAGCTGCGGAAATAGATACGGGGGGAAGCTTTGCCTCCTGATTGTAGTGGTGCATCAGGACCATATGGGAACGATGACATCGCTTAGATTAGAGGAAAAATTGGTATGATTCGTGCTTGCAGTTAGGGGCCTAAGCATAAAACTCAAAAGATAGCCCCTGTGTCAACGTGTAACGAACTTTCTATAATCCATCGCATTAGATGTCCCTCGAGGCCCAGAGCGCAACGCATTTCGCTAGCGCGGGTCTTTAATTGATCGTCCCTTGCTGTTCTGGTGACGTGCATGGGCGTGGCGGGGGCGGTTTGCGCATCCGGTGCGAGCTATCGGGCTGATAACAACTGGATCGACAATGAACTGTTCGCGTAGTTCAAAACAAGACGGAGAACTGTTGTGACCCCACCCGTCGGCATGCGGTAGGCTCCCCTCGGCGCGTTGTAGTAGCTGCGTCCATAAGTTGTTGACGAATCTAATCGTATTAACCGGACTACACACTACAGTGTCCTTACAACGCCGTGTACAGGGACTGACCAAGGTCTGTACCGTACGCTTACGATATTATCGATGATTCTACAGTCTTAAGCCGCTGCGTAGGGTGCGTCGTCCTACCCCCATATTGATCAAGATTCGGCGATATATGACGTTTCCTGACTCCATGGGGCGGGGAGGAGGGTCCAAAGGCACCTGCCGTAGCTAACTCCTAT\n"
          ],
          "name": "stdout"
        }
      ]
    },
    {
      "cell_type": "markdown",
      "metadata": {
        "id": "8tVueTkuTX_U"
      },
      "source": [
        "Problem\n",
        "The GC-content of a DNA string is given by the percentage of symbols in the string that are 'C' or 'G'. For example, the GC-content of \"AGCTATAG\" is 37.5%. Note that the reverse complement of any DNA string has the same GC-content.\n",
        "\n",
        "DNA strings must be labeled when they are consolidated into a database. A commonly used method of string labeling is called FASTA format. In this format, the string is introduced by a line that begins with '>', followed by some labeling information. Subsequent lines contain the string itself; the first line to begin with '>' indicates the label of the next string.\n",
        "\n",
        "In Rosalind's implementation, a string in FASTA format will be labeled by the ID \"Rosalind_xxxx\", where \"xxxx\" denotes a four-digit code between 0000 and 9999.\n",
        "\n",
        "Given: At most 10 DNA strings in FASTA format (of length at most 1 kbp each).\n",
        "\n",
        "Return: The ID of the string having the highest GC-content, followed by the GC-content of that string. Rosalind allows for a default error of 0.001 in all decimal answers unless otherwise stated; please see the note on absolute error below.\n",
        "\n",
        "Sample Dataset\n",
        ">Rosalind_6404\n",
        "CCTGCGGAAGATCGGCACTAGAATAGCCAGAACCGTTTCTCTGAGGCTTCCGGCCTTCCC\n",
        "TCCCACTAATAATTCTGAGG\n",
        ">Rosalind_5959\n",
        "CCATCGGTAGCGCATCCTTAGTCCAATTAAGTCCCTATCCAGGCGCTCCGCCGAAGGTCT\n",
        "ATATCCATTTGTCAGCAGACACGC\n",
        ">Rosalind_0808\n",
        "CCACCCTCGTGGTATGGCTAGGCATTCAGGAACCGGAGAACGCTTCAGACCAGCCCGGAC\n",
        "TGGGAACCTGCGGGCAGTAGGTGGAAT"
      ]
    },
    {
      "cell_type": "code",
      "metadata": {
        "colab": {
          "base_uri": "https://localhost:8080/"
        },
        "id": "b0WwNhYSTbDh",
        "outputId": "38446e7d-b325-4ceb-a3a8-7f5daa97c7e8"
      },
      "source": [
        "data = open('/content/rosalind_gc.txt', 'r').read()\n",
        "\n",
        "import re\n",
        "starts = [i.start() for i in re.finditer('>', data)]\n",
        "starts.append(len(data))\n",
        "cg_dict = {}\n",
        "\n",
        "for i, item in enumerate(starts):\n",
        "  try:\n",
        "    label = data[item+1:item+14]\n",
        "    dna = data[item+15: starts[i+1]]\n",
        "    cg_count = dna.count('C') + dna.count('G')\n",
        "    total_count = cg_count + dna.count('A') + dna.count('T')\n",
        "    cg_ratio = '{:.6f}'.format(cg_count / total_count * 100)\n",
        "    cg_dict[cg_ratio] = label\n",
        "  except IndexError:\n",
        "    break\n",
        "\n",
        "vals = list(cg_dict.keys())\n",
        "max_val = max(vals)\n",
        "max_label = cg_dict[max_val]\n",
        "print(max_label)\n",
        "print(max_val)"
      ],
      "execution_count": 1,
      "outputs": [
        {
          "output_type": "stream",
          "name": "stdout",
          "text": [
            "Rosalind_2805\n",
            "55.314010\n"
          ]
        }
      ]
    },
    {
      "cell_type": "code",
      "metadata": {
        "colab": {
          "base_uri": "https://localhost:8080/"
        },
        "id": "1JVtHu9Wjp9Z",
        "outputId": "0b6facb5-fbb7-4490-cb5d-2f182089977b"
      },
      "source": [
        "print(cg_dict)"
      ],
      "execution_count": 2,
      "outputs": [
        {
          "output_type": "stream",
          "name": "stdout",
          "text": [
            "{'48.634454': 'Rosalind_9555', '52.337398': 'Rosalind_9750', '48.429036': 'Rosalind_6614', '47.921760': 'Rosalind_5765', '47.938144': 'Rosalind_3605', '49.676026': 'Rosalind_6352', '48.842337': 'Rosalind_6748', '47.846333': 'Rosalind_0868', '55.314010': 'Rosalind_2805', '51.086957': 'Rosalind_1936'}\n"
          ]
        }
      ]
    }
  ]
}