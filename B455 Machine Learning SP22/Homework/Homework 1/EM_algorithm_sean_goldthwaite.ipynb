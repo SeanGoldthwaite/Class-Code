{
  "nbformat": 4,
  "nbformat_minor": 0,
  "metadata": {
    "colab": {
      "name": "EM_algorithm_sean_goldthwaite.ipynb",
      "provenance": [],
      "collapsed_sections": []
    },
    "kernelspec": {
      "name": "python3",
      "display_name": "Python 3"
    }
  },
  "cells": [
    {
      "cell_type": "code",
      "metadata": {
        "id": "pLDEgi3wBBzO",
        "colab": {
          "base_uri": "https://localhost:8080/",
          "height": 588
        },
        "outputId": "85c7efd9-d28d-442b-976b-e4eeb51985a9"
      },
      "source": [
        "import numpy as np\n",
        "import matplotlib.pyplot as plt\n",
        "\n",
        "# set random seed so that everytime we get the same result\n",
        "np.random.seed(1)\n",
        "\n",
        "# customizable algorithm parameters\n",
        "n_gaussians = 3\n",
        "data_per_guassian = 1000\n",
        "real_mus = np.random.choice(range(4), n_gaussians, replace=False)\n",
        "real_sigmas = np.full(n_gaussians, 1.5)\n",
        "\n",
        "print('Chosen mus:', real_mus)\n",
        "print('Chosen sigmas:', real_sigmas)\n",
        "\n",
        "# prepare simulation data\n",
        "N = n_gaussians * data_per_guassian\n",
        "y = np.zeros((data_per_guassian, n_gaussians))\n",
        "\n",
        "for i in range(n_gaussians):\n",
        "  y[:,i] = np.random.normal(real_mus[i], real_sigmas[i], data_per_guassian)\n",
        "\n",
        "y = y.flatten()\n",
        "\n",
        "# EM algorithm\n",
        "\n",
        "# Initialization\n",
        "nsteps = 1000\n",
        "count = 0 # should be initialized as 0\n",
        "\n",
        "ps = np.ones(n_gaussians) / n_gaussians\n",
        "mus = np.full(n_gaussians, np.random.choice(y, n_gaussians))\n",
        "sigmas = np.full(n_gaussians, np.std(y))\n",
        "gammas = np.zeros((N,n_gaussians))\n",
        "\n",
        "log = np.zeros(nsteps)\n",
        "\n",
        "print(\"Starting EM Algorithm\")\n",
        "\n",
        "while count < nsteps:\n",
        "    if count % 100 == 0:\n",
        "      print(\"Step #\", count)\n",
        "    # E-step\n",
        "    for i in range(N):\n",
        "      nums = ps * np.exp(-(y[i]-mus)**2/(2*sigmas)) / np.sqrt(sigmas)\n",
        "      gammas[i,] = nums / sum(nums)\n",
        "\n",
        "    # M-step\n",
        "    temp = np.zeros(N)\n",
        "    for i in range(n_gaussians):\n",
        "      mus[i] = sum(gammas[:,i] * y) / sum(gammas[:,i])\n",
        "      sigmas[i] = np.sqrt(sum(gammas[:,i] * (y - mus[i])**2) / sum(gammas[:,i]))\n",
        "      ps[i] = sum(gammas[:,i]) / N\n",
        "      temp = temp + (ps[i] * np.exp(-(y-mus[i])**2/(2*sigmas[i])) / np.sqrt(sigmas[i]))\n",
        "    \n",
        "    log[count] = sum(np.log(temp))\n",
        "\n",
        "    count = count + 1\n",
        "\n",
        "print('Done!')\n",
        "    \n",
        "print('Estimated mus:', mus)\n",
        "print('Reals mus:', real_mus)\n",
        "print('Estimated sigmas:', sigmas)  \n",
        "print('Reals sigmas:', real_sigmas)\n",
        "plt.plot(range(nsteps), log)"
      ],
      "execution_count": 146,
      "outputs": [
        {
          "output_type": "stream",
          "text": [
            "Chosen mus: [3 2 0]\n",
            "Chosen sigmas: [1.5 1.5 1.5]\n",
            "Starting EM Algorithm\n",
            "Step # 0\n",
            "Step # 100\n",
            "Step # 200\n",
            "Step # 300\n",
            "Step # 400\n",
            "Step # 500\n",
            "Step # 600\n",
            "Step # 700\n",
            "Step # 800\n",
            "Step # 900\n",
            "Done!\n",
            "Estimated mus: [ 3.78419314 -0.78821526  1.57536404]\n",
            "Reals mus: [3 2 0]\n",
            "Estimated sigmas: [1.08381303 1.08288454 1.03323291]\n",
            "Reals sigmas: [1.5 1.5 1.5]\n"
          ],
          "name": "stdout"
        },
        {
          "output_type": "execute_result",
          "data": {
            "text/plain": [
              "[<matplotlib.lines.Line2D at 0x7f23a91a5fd0>]"
            ]
          },
          "metadata": {
            "tags": []
          },
          "execution_count": 146
        },
        {
          "output_type": "display_data",
          "data": {
            "image/png": "[encoded data removed]",
            "text/plain": [
              "<Figure size 432x288 with 1 Axes>"
            ]
          },
          "metadata": {
            "tags": [],
            "needs_background": "light"
          }
        }
      ]
    },
    {
      "cell_type": "markdown",
      "metadata": {
        "id": "QohLkS1uMKto"
      },
      "source": [
        "The model chooses 3 random mu values (3, 2, and 0) in this case and assigns each a sigma of 1.5. After 1,000 iterations of th EM algorithm, the estimated mu values are approximately (3.784, 1.575, and -0.788) with sigmas of (1.08, 1.03, and 1.08) respectively. In this case, there seems to be a significant amount of error in the estimated mu values mostly due to a large sigma. Descreasing the sigmas below 1 reduces the error to less than 0.1 for each mu value."
      ]
    }
  ]
}