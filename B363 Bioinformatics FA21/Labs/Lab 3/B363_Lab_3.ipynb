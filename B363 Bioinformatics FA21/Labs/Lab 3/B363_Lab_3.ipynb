{
  "nbformat": 4,
  "nbformat_minor": 0,
  "metadata": {
    "colab": {
      "name": "B363 Lab 3.ipynb",
      "provenance": [],
      "collapsed_sections": []
    },
    "kernelspec": {
      "name": "python3",
      "display_name": "Python 3"
    },
    "language_info": {
      "name": "python"
    }
  },
  "cells": [
    {
      "cell_type": "code",
      "metadata": {
        "colab": {
          "base_uri": "https://localhost:8080/"
        },
        "id": "0UdjHpgdCRz1",
        "outputId": "c4cf080c-29d4-4a9c-80b6-5296001b69d9"
      },
      "source": [
        "s = 'GATATATGCATATACTT'\n",
        "t = 'ATAT'\n",
        "\n",
        "s = 'GTACTAATAATAAGACCTGTATCCCACTAATATCCCACTAATACGTCAACTAATAACTAATAACTAATACGGAACTAATAACTAATAGTGCTACTAATACAAAGGTCGTATACTAATAGCTACTAATAACTAATAACTAATACTTGACTAATAGGACTAATAGGACTAATAGTAGCCACTAGACTAATAAACTAATAACTAATACACTAATAGCAAGGTATACTAATACGTAACTAATATACGACTAATACACTAATAACTAATACGACTAATAAGAACACTAATACTAGTCCCGTCTACTAATAACTAATAAACTAATAACGGACTAATAAGTGCAACTAATAGCACGTAACTAATAACTAATATTTACAACTAATACAACTAATATGTAACACTAATACAGCCCACTAATACGACTAATATTCAGTACTAATAGATTAAAACTAATAATGCGTACTAATAGACTAATAAAACTAATATTCACTACTAATATAACTAATAGTAGGACTAATAGAACTAATAACGGTACTAATAGACTAATATCAGGGGTCCACTAATAACTAATATACTAATAACTAATAACTAATAACTAATAACTAATAGCGCCACTAATATGACTAATAGCGCTACTAATACACTAATAACTAATAACTAATAAACTAATAACTAATAAACTAATACTACTAATATTAACTAATAGACTAATAGCACTAATAGGCTACTAATAACTAATAATCACTAATACGCTACTAATAACTAATAGACTAATAATGGAAGTACTAATACTCTCCCCACTAATATGGTTTGGTACTAATAAAACTAATAACTAATAACTAATA'\n",
        "t = 'ACTAATAAC'\n",
        "\n",
        "k = len(t)\n",
        "n_kmers = len(s) - k + 1\n",
        "\n",
        "bases = ['A', 'T', 'G', 'C']\n",
        "\n",
        "from itertools import product\n",
        "all_kmers = [''.join(item) for item in list((product(bases, repeat=k)))]\n",
        "frequency_dict = {}\n",
        "for kmer in all_kmers:\n",
        "  frequency_dict[kmer] = []\n",
        "\n",
        "for i in range(n_kmers):\n",
        "  kmer = s[i:i + k]\n",
        "  frequency_dict[kmer].append(i + 1)\n",
        "\n",
        "for item in frequency_dict[t]:\n",
        "  print(item, end = ' ')"
      ],
      "execution_count": null,
      "outputs": [
        {
          "output_type": "stream",
          "name": "stdout",
          "text": [
            "49 56 74 122 129 191 252 299 314 352 516 553 568 575 582 589 637 644 659 721 749 819 826 "
          ]
        }
      ]
    },
    {
      "cell_type": "code",
      "metadata": {
        "id": "ORantTczGMlP",
        "colab": {
          "base_uri": "https://localhost:8080/"
        },
        "outputId": "c8ae0927-5749-4d9f-c273-5f7fd265f0c6"
      },
      "source": [
        "import numpy as np\n",
        "import numpy.random as rand\n",
        "from scipy import stats\n",
        "\n",
        "#np.random.seed(77)\n",
        "translation_dict = {'A': 0, 'T': 1, 'G': 2, 'C': 3}\n",
        "\n",
        "def score(dna_list):\n",
        "  dna_list = [[char for char in dna] for dna in dna_list]\n",
        "  modes = stats.mode(dna_list)[0][0]\n",
        "  score = np.matrix([modes[i] != dna[i] for dna in dna_list for i in range(len(modes))]).sum()\n",
        "\n",
        "  return score, ''.join(list(modes))\n",
        "\n",
        "def profile(dna_list):\n",
        "  dna_len = len(dna_list[0])\n",
        "  t = len(dna_list)\n",
        "\n",
        "  profile = np.ones((4, dna_len)) #mp.ones for pseudocounts\n",
        "  for dna in dna_list:\n",
        "    for i in range(dna_len):\n",
        "      profile[translation_dict[dna[i]], i] += 1 \n",
        "  \n",
        "  profile = profile / (t + 4)\n",
        "  return profile\n",
        "\n",
        "\n",
        "def gibbs_sampler(dna, k ,t, n):\n",
        "  dna_len = len(dna[0])\n",
        "  n_kmers = dna_len - k + 1\n",
        "  ind = rand.choice(range(n_kmers), t)\n",
        "\n",
        "  motifs = [dna_list[i][ind[i]:ind[i]+k] for i in range(t)]\n",
        "  best_motifs = motifs\n",
        "  \n",
        "  for i in range(n):\n",
        "    num = rand.randint(t)\n",
        "    #print(num)\n",
        "    motif = motifs.pop(num)\n",
        "    prof = profile(motifs)\n",
        "\n",
        "    probabilities = []\n",
        "    for j in range(n_kmers):\n",
        "      kmer  = [translation_dict[ch] for ch in dna_list[num][j:j + k]]\n",
        "      p = 1\n",
        "      for h in range(k):\n",
        "        p *= prof[kmer[h], h]\n",
        "\n",
        "      probabilities.append(p)\n",
        "    max = probabilities.index(np.max(probabilities))\n",
        "    new_motif = dna_list[num][max:max + k]\n",
        "    motifs.insert(num, new_motif)\n",
        "    if score(motifs) < score(best_motifs):\n",
        "      best_motifs = motifs\n",
        "\n",
        "  return best_motifs\n",
        "\n",
        "# dna_list = ['CGCCCCTCTCGGGGGTGTTCAGTAAACGGCCA', \n",
        "#       'GGGCGAGGTATGTGTAAGTGCCAAGGTGCCAG',\n",
        "#       'TAGTACCGAGACCGAAAGAAGTATACAGGCGT',\n",
        "#       'TAGATCAAGTTTCAGGTGCACGTCGGTGAACC',\n",
        "#       'AATCCACCAGCTCCACGTGCAATGTTGGCCTA']\n",
        "# k = 8\n",
        "# t = 5\n",
        "# n = 100\n",
        "\n",
        "dna = open('/content/rosalind_ba2g.txt', 'r').readlines()\n",
        "\n",
        "dna_list = [dna.replace('\\n', '') for dna in dna[1:]]\n",
        "k = int(dna[0][:2])\n",
        "t = int(dna[0][3:5])\n",
        "n = int(dna[0][6:])\n",
        "print(f'k = {k}\\nt = {t}\\nn = {n}')\n",
        "\n",
        "motifs = gibbs_sampler(dna_list, k, t ,n)\n",
        "print(score(motifs))\n",
        "\n",
        "for item in motifs:\n",
        "  print(item)"
      ],
      "execution_count": 35,
      "outputs": [
        {
          "output_type": "stream",
          "name": "stdout",
          "text": [
            "k = 15\n",
            "t = 20\n",
            "n = 2000\n",
            "(70, 'CAGTAGACGTTTTTA')\n",
            "CGTCTGACGTTGTTA\n",
            "GAGTTTTCGTTTTTA\n",
            "CAACGGACGTTTTTA\n",
            "GAGTATCGGTTTTTA\n",
            "GAGTAGACGTTTGAT\n",
            "CAGTAGCGCTTTTTA\n",
            "CAGTAGATAGTTTTA\n",
            "AGGTAGACGTTTTTG\n",
            "CAGTAGACGTTCGAA\n",
            "GAGTAGACGTACGTA\n",
            "GAGAGTACGTTTTTA\n",
            "CAGTAGACGCGCTTA\n",
            "AAGTAATGGTTTTTA\n",
            "CAGTAGCGCTTTTTA\n",
            "TTTCAGACGTTTTTA\n",
            "AAGTAGACACCTTTA\n",
            "CAGTAGACGTTTTCC\n",
            "AAGTTTTCGTTTTTA\n",
            "CAGTAGAAAGTTTTA\n",
            "GCTTAGACGTTTTTA\n"
          ]
        }
      ]
    },
    {
      "cell_type": "code",
      "metadata": {
        "id": "MnKnIiR6ofQ_"
      },
      "source": [
        "\n"
      ],
      "execution_count": null,
      "outputs": []
    }
  ]
}