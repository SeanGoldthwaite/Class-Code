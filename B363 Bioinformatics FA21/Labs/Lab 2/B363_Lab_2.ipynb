{
  "nbformat": 4,
  "nbformat_minor": 0,
  "metadata": {
    "colab": {
      "name": "B363 Lab 2.ipynb",
      "provenance": []
    },
    "kernelspec": {
      "name": "python3",
      "display_name": "Python 3"
    },
    "language_info": {
      "name": "python"
    }
  },
  "cells": [
    {
      "cell_type": "code",
      "metadata": {
        "colab": {
          "base_uri": "https://localhost:8080/"
        },
        "id": "wbKE2F9xeXuG",
        "outputId": "1fd9a960-ce9d-46e7-8829-3bc2f7b7909d"
      },
      "source": [
        "pip install biopython"
      ],
      "execution_count": 2,
      "outputs": [
        {
          "output_type": "stream",
          "name": "stdout",
          "text": [
            "Collecting biopython\n",
            "  Downloading biopython-1.79-cp37-cp37m-manylinux_2_5_x86_64.manylinux1_x86_64.whl (2.3 MB)\n",
            "\u001b[K     |████████████████████████████████| 2.3 MB 3.1 MB/s \n",
            "\u001b[?25hRequirement already satisfied: numpy in /usr/local/lib/python3.7/dist-packages (from biopython) (1.19.5)\n",
            "Installing collected packages: biopython\n",
            "Successfully installed biopython-1.79\n"
          ]
        }
      ]
    },
    {
      "cell_type": "code",
      "metadata": {
        "colab": {
          "base_uri": "https://localhost:8080/"
        },
        "id": "_xx_H4nhd8c3",
        "outputId": "cc6c2e3b-021c-46ad-fd67-e3bd066f06c2"
      },
      "source": [
        "from Bio import SeqIO\n",
        "\n",
        "output_file = '/content/rosalind_gc.txt'\n",
        "fasta_sequences = SeqIO.parse(open(output_file),'fasta')\n",
        "for fasta in fasta_sequences:\n",
        "  name, sequence = fasta.id, str(fasta.seq)\n",
        "  #print(name, sequence)\n",
        "\n",
        "dna = 'ATATTTACCAAACCATGACACCTTTCAAACCATGAAACCATGAAACCATGAAACCATGAAACCATGGGTGCGGGCGATATTTACCATATTTACCGGTGCGGGCGGGTGCGGGCGACACCTTTCGGTGCGGGCGACACCTTTCATATTTACCTAGTCCCCTAGTCCCCATATTTACCGGTGCGGGCGTAGTCCCCACACCTTTCATATTTACCACACCTTTCAAACCATGACACCTTTCAAACCATGATATTTACCATATTTACCTAGTCCCCGGTGCGGGCGAAACCATGACACCTTTCGGTGCGGGCGACACCTTTCTAGTCCCCACACCTTTCATATTTACCTAGTCCCCAAACCATGTAGTCCCCGGTGCGGGCGACACCTTTCACACCTTTCGGTGCGGGCGGGTGCGGGCGTAGTCCCCATATTTACCACACCTTTCACACCTTTCATATTTACCACACCTTTCAAACCATGAAACCATGACACCTTTCATATTTACCGGTGCGGGCGTAGTCCCCGGTGCGGGCGATATTTACCATATTTACCATATTTACCATATTTACCAAACCATGGGTGCGGGCGATATTTACCATATTTACCATATTTACCACACCTTTCTAGTCCCCAAACCATGACACCTTTCACACCTTTCGGTGCGGGCGATATTTACCTAGTCCCCTAGTCCCCACACCTTTCGGTGCGGGCGGGTGCGGGCGGGTGCGGGCGAAACCATGAAACCATGACACCTTTCTAGTCCCCGGTGCGGGCGGGTGCGGGCGATATTTACCACACCTTTCACACCTTTCATATTTACCTAGTCCCCTAGTCCCCGGTGCGGGCGTAGTCCCCACACCTTTCATATTTACCAAACCATGGGTGCGGGCGAAACCATGGGTGCGGGCGATATTTACCACACCTTTCTAGTCCCC'\n",
        "k = 14\n",
        "length = len(dna)\n",
        "\n",
        "frequency_table = {}\n",
        "for i in range(length - k):\n",
        "  kmer = dna[i:i + k]\n",
        "  if kmer in frequency_table:\n",
        "    frequency_table[kmer] = frequency_table[kmer] + 1\n",
        "  else:\n",
        "    frequency_table[kmer] = 1\n",
        "\n",
        "filtered_table = {}\n",
        "for kmer, frequency in frequency_table.items():\n",
        "  if frequency >= 7:\n",
        "    filtered_table[kmer] = frequency\n",
        "\n",
        "filtered_list = list(filtered_table.keys())\n",
        "#print(len(filtered_list), filtered_list)\n",
        "for item in filtered_list:\n",
        "  print(item ),"
      ],
      "execution_count": 49,
      "outputs": [
        {
          "output_type": "stream",
          "name": "stdout",
          "text": [
            "ATATTTACCATATT\n",
            "TATTTACCATATTT\n",
            "ATTTACCATATTTA\n",
            "TTTACCATATTTAC\n",
            "TTACCATATTTACC\n",
            "ACACCTTTCATATT\n",
            "CACCTTTCATATTT\n",
            "ACCTTTCATATTTA\n",
            "CCTTTCATATTTAC\n",
            "CTTTCATATTTACC\n"
          ]
        }
      ]
    }
  ]
}